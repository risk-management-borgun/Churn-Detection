{
 "cells": [
  {
   "cell_type": "code",
   "execution_count": 2,
   "metadata": {},
   "outputs": [],
   "source": [
    "#imports we need\n",
    "import pandas as pd\n",
    "import numpy as np\n",
    "import matplotlib.pyplot as plt\n",
    "import seaborn as sb"
   ]
  },
  {
   "cell_type": "code",
   "execution_count": 7,
   "metadata": {},
   "outputs": [
    {
     "name": "stdout",
     "output_type": "stream",
     "text": [
      "SummaryYear: 0.00%\n",
      "SummaryMonth: 0.00%\n",
      "SettlementAmountISK: 0.32%\n",
      "NMerchantID: 0.00%\n",
      "MerchantName: 0.00%\n",
      "CompanySSN: 0.00%\n",
      "Transactions: 0.00%\n",
      "Fees: 17.42%\n",
      "FeeRatio: 17.99%\n",
      "TransactionsLastTwoMonths: 2.76%\n",
      "SettlementsLastTwoMonths: 2.77%\n",
      "FeeRatioLastTwoMonths: 11.96%\n",
      "MerchantBalance: 0.89%\n",
      "MerchantActive: 0.00%\n"
     ]
    },
    {
     "data": {
      "text/plain": [
       "<AxesSubplot:>"
      ]
     },
     "execution_count": 7,
     "metadata": {},
     "output_type": "execute_result"
    },
    {
     "data": {
      "image/png": "[encoded data removed]",
      "text/plain": [
       "<Figure size 432x288 with 1 Axes>"
      ]
     },
     "metadata": {
      "needs_background": "light"
     },
     "output_type": "display_data"
    }
   ],
   "source": [
    "icelandic_merchants = pd.read_csv(\"../Data/Icelandic_Set.csv\", sep=';', decimal=',')\n",
    "\n",
    "row_count, col_count = icelandic_merchants.shape\n",
    "incomplete_features = []\n",
    "for index, missingAmount in enumerate(icelandic_merchants.isnull().sum()):\n",
    "    percentage = (missingAmount / row_count)*100\n",
    "    feature = icelandic_merchants.columns[index]\n",
    "    if percentage > 30:\n",
    "        incomplete_features.append(feature)\n",
    "    print(f\"{feature}: {percentage:.2f}%\")   \n",
    "\n",
    "sb.heatmap(icelandic_merchants.isnull(), cbar=False)"
   ]
  },
  {
   "cell_type": "code",
   "execution_count": 8,
   "metadata": {},
   "outputs": [
    {
     "data": {
      "text/html": [
       "<div>\n",
       "<style scoped>\n",
       "    .dataframe tbody tr th:only-of-type {\n",
       "        vertical-align: middle;\n",
       "    }\n",
       "\n",
       "    .dataframe tbody tr th {\n",
       "        vertical-align: top;\n",
       "    }\n",
       "\n",
       "    .dataframe thead th {\n",
       "        text-align: right;\n",
       "    }\n",
       "</style>\n",
       "<table border=\"1\" class=\"dataframe\">\n",
       "  <thead>\n",
       "    <tr style=\"text-align: right;\">\n",
       "      <th></th>\n",
       "      <th>SummaryYear</th>\n",
       "      <th>SummaryMonth</th>\n",
       "      <th>SettlementAmountISK</th>\n",
       "      <th>NMerchantID</th>\n",
       "      <th>MerchantName</th>\n",
       "      <th>CompanySSN</th>\n",
       "      <th>Transactions</th>\n",
       "      <th>Fees</th>\n",
       "      <th>FeeRatio</th>\n",
       "      <th>TransactionsLastTwoMonths</th>\n",
       "      <th>SettlementsLastTwoMonths</th>\n",
       "      <th>FeeRatioLastTwoMonths</th>\n",
       "      <th>MerchantBalance</th>\n",
       "      <th>MerchantActive</th>\n",
       "      <th>predicted label</th>\n",
       "    </tr>\n",
       "  </thead>\n",
       "  <tbody>\n",
       "    <tr>\n",
       "      <th>0</th>\n",
       "      <td>2020</td>\n",
       "      <td>11</td>\n",
       "      <td>500423.0</td>\n",
       "      <td>8001900</td>\n",
       "      <td>Bilar og Hjol</td>\n",
       "      <td>6201033570</td>\n",
       "      <td>11</td>\n",
       "      <td>-1670.9023</td>\n",
       "      <td>-0.003339</td>\n",
       "      <td>70.0</td>\n",
       "      <td>3286017.0</td>\n",
       "      <td>-0.006615</td>\n",
       "      <td>65109.0</td>\n",
       "      <td>1</td>\n",
       "      <td>active</td>\n",
       "    </tr>\n",
       "    <tr>\n",
       "      <th>1</th>\n",
       "      <td>2020</td>\n",
       "      <td>10</td>\n",
       "      <td>4444593.0</td>\n",
       "      <td>8001943</td>\n",
       "      <td>Dýralæknastofa Suðurnesja</td>\n",
       "      <td>5411032870</td>\n",
       "      <td>359</td>\n",
       "      <td>-38851.4368</td>\n",
       "      <td>-0.008741</td>\n",
       "      <td>309.0</td>\n",
       "      <td>3947269.0</td>\n",
       "      <td>-0.002695</td>\n",
       "      <td>269759.0</td>\n",
       "      <td>1</td>\n",
       "      <td>active</td>\n",
       "    </tr>\n",
       "    <tr>\n",
       "      <th>2</th>\n",
       "      <td>2020</td>\n",
       "      <td>11</td>\n",
       "      <td>697709.0</td>\n",
       "      <td>8002020</td>\n",
       "      <td>Von verslun ehf.</td>\n",
       "      <td>4412170130</td>\n",
       "      <td>48</td>\n",
       "      <td>-7512.0642</td>\n",
       "      <td>-0.010767</td>\n",
       "      <td>289.0</td>\n",
       "      <td>3913514.0</td>\n",
       "      <td>-0.006520</td>\n",
       "      <td>-290.0</td>\n",
       "      <td>1</td>\n",
       "      <td>active</td>\n",
       "    </tr>\n",
       "    <tr>\n",
       "      <th>3</th>\n",
       "      <td>2020</td>\n",
       "      <td>11</td>\n",
       "      <td>300.0</td>\n",
       "      <td>8002045</td>\n",
       "      <td>Elite Thjalfun</td>\n",
       "      <td>5506200140</td>\n",
       "      <td>1</td>\n",
       "      <td>-360.5600</td>\n",
       "      <td>-1.201867</td>\n",
       "      <td>120.0</td>\n",
       "      <td>67725.5</td>\n",
       "      <td>-0.012441</td>\n",
       "      <td>-290.0</td>\n",
       "      <td>1</td>\n",
       "      <td>active</td>\n",
       "    </tr>\n",
       "    <tr>\n",
       "      <th>4</th>\n",
       "      <td>2020</td>\n",
       "      <td>11</td>\n",
       "      <td>606110.0</td>\n",
       "      <td>8002135</td>\n",
       "      <td>Verslunin Still</td>\n",
       "      <td>5508003060</td>\n",
       "      <td>25</td>\n",
       "      <td>-6463.9580</td>\n",
       "      <td>-0.010665</td>\n",
       "      <td>57.0</td>\n",
       "      <td>1432180.5</td>\n",
       "      <td>-0.007012</td>\n",
       "      <td>-290.0</td>\n",
       "      <td>1</td>\n",
       "      <td>active</td>\n",
       "    </tr>\n",
       "  </tbody>\n",
       "</table>\n",
       "</div>"
      ],
      "text/plain": [
       "   SummaryYear  SummaryMonth  SettlementAmountISK  NMerchantID  \\\n",
       "0         2020            11             500423.0      8001900   \n",
       "1         2020            10            4444593.0      8001943   \n",
       "2         2020            11             697709.0      8002020   \n",
       "3         2020            11                300.0      8002045   \n",
       "4         2020            11             606110.0      8002135   \n",
       "\n",
       "                MerchantName  CompanySSN  Transactions        Fees  FeeRatio  \\\n",
       "0              Bilar og Hjol  6201033570            11  -1670.9023 -0.003339   \n",
       "1  Dýralæknastofa Suðurnesja  5411032870           359 -38851.4368 -0.008741   \n",
       "2           Von verslun ehf.  4412170130            48  -7512.0642 -0.010767   \n",
       "3             Elite Thjalfun  5506200140             1   -360.5600 -1.201867   \n",
       "4            Verslunin Still  5508003060            25  -6463.9580 -0.010665   \n",
       "\n",
       "   TransactionsLastTwoMonths  SettlementsLastTwoMonths  FeeRatioLastTwoMonths  \\\n",
       "0                       70.0                 3286017.0              -0.006615   \n",
       "1                      309.0                 3947269.0              -0.002695   \n",
       "2                      289.0                 3913514.0              -0.006520   \n",
       "3                      120.0                   67725.5              -0.012441   \n",
       "4                       57.0                 1432180.5              -0.007012   \n",
       "\n",
       "   MerchantBalance  MerchantActive predicted label  \n",
       "0          65109.0               1          active  \n",
       "1         269759.0               1          active  \n",
       "2           -290.0               1          active  \n",
       "3           -290.0               1          active  \n",
       "4           -290.0               1          active  "
      ]
     },
     "execution_count": 8,
     "metadata": {},
     "output_type": "execute_result"
    }
   ],
   "source": [
    "predicted = pd.read_csv(\"../Data/predicted.csv\")\n",
    "called_merchants = pd.read_csv(\"../Data/bankrupt_set.csv\")\n",
    "raw_set = pd.read_csv(\"../Data/RawStdevSSNs.csv\")\n",
    "\n",
    "predicted.head()"
   ]
  },
  {
   "cell_type": "code",
   "execution_count": 10,
   "metadata": {},
   "outputs": [
    {
     "name": "stdout",
     "output_type": "stream",
     "text": [
      "8\n"
     ]
    }
   ],
   "source": [
    "number = 0\n",
    "predicted_set = set(predicted[predicted['predicted label']=='churned']['CompanySSN'])\n",
    "called_merchants = set(called_merchants['CompanySSN'])\n",
    "\n",
    "print(len(predicted_set.intersection(called_merchants)))"
   ]
  },
  {
   "cell_type": "code",
   "execution_count": 21,
   "metadata": {},
   "outputs": [
    {
     "data": {
      "image/png": "[encoded data removed]",
      "text/plain": [
       "<Figure size 432x288 with 1 Axes>"
      ]
     },
     "metadata": {
      "needs_background": "light"
     },
     "output_type": "display_data"
    }
   ],
   "source": [
    "raw_merchants = set(raw_set['CompanySSN'])\n",
    "\n",
    "data_raw = pd.DataFrame({\n",
    "    \"Name\": [\"Intersection\", \"Model (0) - Stedev\", \"Stedev - Model (0)\"],\n",
    "    \"Values\": [len(set(predicted[predicted['predicted label']=='churned']['CompanySSN']).intersection(raw_merchants)),\n",
    "               len(set(predicted[predicted['predicted label']=='churned']['CompanySSN']).difference(raw_merchants)),\n",
    "               len(raw_merchants.difference(set(predicted[predicted['predicted label']=='churned']['CompanySSN'])))]\n",
    "    })\n",
    "ax = sb.barplot(x=\"Name\", y=\"Values\", data=data_raw)"
   ]
  },
  {
   "cell_type": "code",
   "execution_count": null,
   "metadata": {},
   "outputs": [],
   "source": []
  }
 ],
 "metadata": {
  "kernelspec": {
   "display_name": "Python 3",
   "language": "python",
   "name": "python3"
  },
  "language_info": {
   "codemirror_mode": {
    "name": "ipython",
    "version": 3
   },
   "file_extension": ".py",
   "mimetype": "text/x-python",
   "name": "python",
   "nbconvert_exporter": "python",
   "pygments_lexer": "ipython3",
   "version": "3.8.6rc1"
  }
 },
 "nbformat": 4,
 "nbformat_minor": 4
}
