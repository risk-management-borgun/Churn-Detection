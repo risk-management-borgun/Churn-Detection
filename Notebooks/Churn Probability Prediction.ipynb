{
 "cells": [
  {
   "cell_type": "code",
   "execution_count": 1,
   "metadata": {},
   "outputs": [],
   "source": [
    "#imports we need\n",
    "import pandas as pd\n",
    "import numpy as np\n",
    "import matplotlib.pyplot as plt\n",
    "import seaborn as sb\n",
    "\n",
    "from sklearn.metrics import precision_score, recall_score, f1_score, roc_auc_score, accuracy_score, classification_report\n",
    "from sklearn.model_selection import KFold, StratifiedKFold\n",
    "from sklearn.model_selection import train_test_split\n",
    "\n",
    "sb.set_theme(style=\"white\")"
   ]
  },
  {
   "cell_type": "code",
   "execution_count": 2,
   "metadata": {
    "scrolled": false
   },
   "outputs": [
    {
     "data": {
      "text/html": [
       "<div>\n",
       "<style scoped>\n",
       "    .dataframe tbody tr th:only-of-type {\n",
       "        vertical-align: middle;\n",
       "    }\n",
       "\n",
       "    .dataframe tbody tr th {\n",
       "        vertical-align: top;\n",
       "    }\n",
       "\n",
       "    .dataframe thead th {\n",
       "        text-align: right;\n",
       "    }\n",
       "</style>\n",
       "<table border=\"1\" class=\"dataframe\">\n",
       "  <thead>\n",
       "    <tr style=\"text-align: right;\">\n",
       "      <th></th>\n",
       "      <th>period</th>\n",
       "      <th>SettlementAmountISK</th>\n",
       "      <th>NMerchantID</th>\n",
       "      <th>MerchantName</th>\n",
       "      <th>DaysSinceLastSettlement</th>\n",
       "      <th>CompanySSN</th>\n",
       "      <th>Transactions</th>\n",
       "      <th>avgTransactionsPerDay</th>\n",
       "      <th>Fees</th>\n",
       "      <th>FeeRatio</th>\n",
       "      <th>TransactionsLastTwoMonths</th>\n",
       "      <th>avgTransactionsPerDayLastTwoMonths</th>\n",
       "      <th>SettlementsLastTwoMonths</th>\n",
       "      <th>FeeRatioLastTwoMonths</th>\n",
       "      <th>MerchantBalance</th>\n",
       "      <th>MerchantActive</th>\n",
       "    </tr>\n",
       "  </thead>\n",
       "  <tbody>\n",
       "    <tr>\n",
       "      <th>0</th>\n",
       "      <td>619</td>\n",
       "      <td>405606.0</td>\n",
       "      <td>8001896</td>\n",
       "      <td>Adalbilar</td>\n",
       "      <td>0.0</td>\n",
       "      <td>6005161320</td>\n",
       "      <td>44</td>\n",
       "      <td>0.186047</td>\n",
       "      <td>-2490.9604</td>\n",
       "      <td>-0.006141</td>\n",
       "      <td>12.0</td>\n",
       "      <td>0.825000</td>\n",
       "      <td>331161.5</td>\n",
       "      <td>-0.063492</td>\n",
       "      <td>0.0</td>\n",
       "      <td>1</td>\n",
       "    </tr>\n",
       "    <tr>\n",
       "      <th>1</th>\n",
       "      <td>619</td>\n",
       "      <td>2300708.0</td>\n",
       "      <td>8001997</td>\n",
       "      <td>BK Kjuklingur</td>\n",
       "      <td>0.0</td>\n",
       "      <td>5011032090</td>\n",
       "      <td>700</td>\n",
       "      <td>0.011445</td>\n",
       "      <td>-29101.9137</td>\n",
       "      <td>-0.012649</td>\n",
       "      <td>1094.0</td>\n",
       "      <td>0.011299</td>\n",
       "      <td>3608151.5</td>\n",
       "      <td>-0.023730</td>\n",
       "      <td>0.0</td>\n",
       "      <td>1</td>\n",
       "    </tr>\n",
       "    <tr>\n",
       "      <th>2</th>\n",
       "      <td>618</td>\n",
       "      <td>66685.0</td>\n",
       "      <td>8002023</td>\n",
       "      <td>Taeki.is</td>\n",
       "      <td>23.0</td>\n",
       "      <td>6503992859</td>\n",
       "      <td>2</td>\n",
       "      <td>11.000000</td>\n",
       "      <td>-733.6965</td>\n",
       "      <td>-0.011002</td>\n",
       "      <td>1.0</td>\n",
       "      <td>0.000000</td>\n",
       "      <td>51956.0</td>\n",
       "      <td>-0.016284</td>\n",
       "      <td>35685.0</td>\n",
       "      <td>1</td>\n",
       "    </tr>\n",
       "    <tr>\n",
       "      <th>3</th>\n",
       "      <td>619</td>\n",
       "      <td>18000.0</td>\n",
       "      <td>8002049</td>\n",
       "      <td>M Harstofa</td>\n",
       "      <td>0.0</td>\n",
       "      <td>4803190950</td>\n",
       "      <td>2</td>\n",
       "      <td>3.000000</td>\n",
       "      <td>-177.2200</td>\n",
       "      <td>-0.009846</td>\n",
       "      <td>13.0</td>\n",
       "      <td>0.500000</td>\n",
       "      <td>92200.0</td>\n",
       "      <td>-0.021834</td>\n",
       "      <td>145960.0</td>\n",
       "      <td>1</td>\n",
       "    </tr>\n",
       "    <tr>\n",
       "      <th>4</th>\n",
       "      <td>619</td>\n",
       "      <td>786198.0</td>\n",
       "      <td>8002055</td>\n",
       "      <td>Bílvirkinn bifreiðaverkstæði</td>\n",
       "      <td>0.0</td>\n",
       "      <td>5404201300</td>\n",
       "      <td>14</td>\n",
       "      <td>0.615385</td>\n",
       "      <td>-6926.5878</td>\n",
       "      <td>-0.008810</td>\n",
       "      <td>21.0</td>\n",
       "      <td>0.361111</td>\n",
       "      <td>1024643.0</td>\n",
       "      <td>-0.012945</td>\n",
       "      <td>-84345.0</td>\n",
       "      <td>1</td>\n",
       "    </tr>\n",
       "  </tbody>\n",
       "</table>\n",
       "</div>"
      ],
      "text/plain": [
       "   period  SettlementAmountISK  NMerchantID                  MerchantName  \\\n",
       "0     619             405606.0      8001896                     Adalbilar   \n",
       "1     619            2300708.0      8001997                 BK Kjuklingur   \n",
       "2     618              66685.0      8002023                      Taeki.is   \n",
       "3     619              18000.0      8002049                    M Harstofa   \n",
       "4     619             786198.0      8002055  Bílvirkinn bifreiðaverkstæði   \n",
       "\n",
       "   DaysSinceLastSettlement  CompanySSN  Transactions  avgTransactionsPerDay  \\\n",
       "0                      0.0  6005161320            44               0.186047   \n",
       "1                      0.0  5011032090           700               0.011445   \n",
       "2                     23.0  6503992859             2              11.000000   \n",
       "3                      0.0  4803190950             2               3.000000   \n",
       "4                      0.0  5404201300            14               0.615385   \n",
       "\n",
       "         Fees  FeeRatio  TransactionsLastTwoMonths  \\\n",
       "0  -2490.9604 -0.006141                       12.0   \n",
       "1 -29101.9137 -0.012649                     1094.0   \n",
       "2   -733.6965 -0.011002                        1.0   \n",
       "3   -177.2200 -0.009846                       13.0   \n",
       "4  -6926.5878 -0.008810                       21.0   \n",
       "\n",
       "   avgTransactionsPerDayLastTwoMonths  SettlementsLastTwoMonths  \\\n",
       "0                            0.825000                  331161.5   \n",
       "1                            0.011299                 3608151.5   \n",
       "2                            0.000000                   51956.0   \n",
       "3                            0.500000                   92200.0   \n",
       "4                            0.361111                 1024643.0   \n",
       "\n",
       "   FeeRatioLastTwoMonths  MerchantBalance  MerchantActive  \n",
       "0              -0.063492              0.0               1  \n",
       "1              -0.023730              0.0               1  \n",
       "2              -0.016284          35685.0               1  \n",
       "3              -0.021834         145960.0               1  \n",
       "4              -0.012945         -84345.0               1  "
      ]
     },
     "execution_count": 2,
     "metadata": {},
     "output_type": "execute_result"
    }
   ],
   "source": [
    "#import our data\n",
    "df = pd.read_csv(\"../Data/merchants_summaries (2).csv\", sep=';', decimal=',', index_col=None)\n",
    "df = df.dropna()\n",
    "\n",
    "df.head()"
   ]
  },
  {
   "cell_type": "code",
   "execution_count": 3,
   "metadata": {},
   "outputs": [
    {
     "data": {
      "text/html": [
       "<div>\n",
       "<style scoped>\n",
       "    .dataframe tbody tr th:only-of-type {\n",
       "        vertical-align: middle;\n",
       "    }\n",
       "\n",
       "    .dataframe tbody tr th {\n",
       "        vertical-align: top;\n",
       "    }\n",
       "\n",
       "    .dataframe thead th {\n",
       "        text-align: right;\n",
       "    }\n",
       "</style>\n",
       "<table border=\"1\" class=\"dataframe\">\n",
       "  <thead>\n",
       "    <tr style=\"text-align: right;\">\n",
       "      <th></th>\n",
       "      <th>period</th>\n",
       "      <th>SettlementAmountISK</th>\n",
       "      <th>NMerchantID</th>\n",
       "      <th>MerchantName</th>\n",
       "      <th>DaysSinceLastSettlement</th>\n",
       "      <th>CompanySSN</th>\n",
       "      <th>Transactions</th>\n",
       "      <th>avgTransactionsPerDay</th>\n",
       "      <th>Fees</th>\n",
       "      <th>FeeRatio</th>\n",
       "      <th>TransactionsLastTwoMonths</th>\n",
       "      <th>avgTransactionsPerDayLastTwoMonths</th>\n",
       "      <th>SettlementsLastTwoMonths</th>\n",
       "      <th>FeeRatioLastTwoMonths</th>\n",
       "      <th>MerchantBalance</th>\n",
       "      <th>MerchantActive</th>\n",
       "      <th>churn_proba</th>\n",
       "    </tr>\n",
       "  </thead>\n",
       "  <tbody>\n",
       "    <tr>\n",
       "      <th>0</th>\n",
       "      <td>619</td>\n",
       "      <td>405606.0</td>\n",
       "      <td>8001896</td>\n",
       "      <td>Adalbilar</td>\n",
       "      <td>0.0</td>\n",
       "      <td>6005161320</td>\n",
       "      <td>44</td>\n",
       "      <td>0.186047</td>\n",
       "      <td>-2490.9604</td>\n",
       "      <td>-0.006141</td>\n",
       "      <td>12.0</td>\n",
       "      <td>0.825000</td>\n",
       "      <td>331161.5</td>\n",
       "      <td>-0.063492</td>\n",
       "      <td>0.0</td>\n",
       "      <td>1</td>\n",
       "      <td>0.080103</td>\n",
       "    </tr>\n",
       "    <tr>\n",
       "      <th>1</th>\n",
       "      <td>619</td>\n",
       "      <td>2300708.0</td>\n",
       "      <td>8001997</td>\n",
       "      <td>BK Kjuklingur</td>\n",
       "      <td>0.0</td>\n",
       "      <td>5011032090</td>\n",
       "      <td>700</td>\n",
       "      <td>0.011445</td>\n",
       "      <td>-29101.9137</td>\n",
       "      <td>-0.012649</td>\n",
       "      <td>1094.0</td>\n",
       "      <td>0.011299</td>\n",
       "      <td>3608151.5</td>\n",
       "      <td>-0.023730</td>\n",
       "      <td>0.0</td>\n",
       "      <td>1</td>\n",
       "      <td>0.090856</td>\n",
       "    </tr>\n",
       "    <tr>\n",
       "      <th>2</th>\n",
       "      <td>618</td>\n",
       "      <td>66685.0</td>\n",
       "      <td>8002023</td>\n",
       "      <td>Taeki.is</td>\n",
       "      <td>23.0</td>\n",
       "      <td>6503992859</td>\n",
       "      <td>2</td>\n",
       "      <td>11.000000</td>\n",
       "      <td>-733.6965</td>\n",
       "      <td>-0.011002</td>\n",
       "      <td>1.0</td>\n",
       "      <td>0.000000</td>\n",
       "      <td>51956.0</td>\n",
       "      <td>-0.016284</td>\n",
       "      <td>35685.0</td>\n",
       "      <td>1</td>\n",
       "      <td>0.897919</td>\n",
       "    </tr>\n",
       "    <tr>\n",
       "      <th>3</th>\n",
       "      <td>619</td>\n",
       "      <td>18000.0</td>\n",
       "      <td>8002049</td>\n",
       "      <td>M Harstofa</td>\n",
       "      <td>0.0</td>\n",
       "      <td>4803190950</td>\n",
       "      <td>2</td>\n",
       "      <td>3.000000</td>\n",
       "      <td>-177.2200</td>\n",
       "      <td>-0.009846</td>\n",
       "      <td>13.0</td>\n",
       "      <td>0.500000</td>\n",
       "      <td>92200.0</td>\n",
       "      <td>-0.021834</td>\n",
       "      <td>145960.0</td>\n",
       "      <td>1</td>\n",
       "      <td>0.145034</td>\n",
       "    </tr>\n",
       "    <tr>\n",
       "      <th>4</th>\n",
       "      <td>619</td>\n",
       "      <td>786198.0</td>\n",
       "      <td>8002055</td>\n",
       "      <td>Bílvirkinn bifreiðaverkstæði</td>\n",
       "      <td>0.0</td>\n",
       "      <td>5404201300</td>\n",
       "      <td>14</td>\n",
       "      <td>0.615385</td>\n",
       "      <td>-6926.5878</td>\n",
       "      <td>-0.008810</td>\n",
       "      <td>21.0</td>\n",
       "      <td>0.361111</td>\n",
       "      <td>1024643.0</td>\n",
       "      <td>-0.012945</td>\n",
       "      <td>-84345.0</td>\n",
       "      <td>1</td>\n",
       "      <td>0.154787</td>\n",
       "    </tr>\n",
       "  </tbody>\n",
       "</table>\n",
       "</div>"
      ],
      "text/plain": [
       "   period  SettlementAmountISK  NMerchantID                  MerchantName  \\\n",
       "0     619             405606.0      8001896                     Adalbilar   \n",
       "1     619            2300708.0      8001997                 BK Kjuklingur   \n",
       "2     618              66685.0      8002023                      Taeki.is   \n",
       "3     619              18000.0      8002049                    M Harstofa   \n",
       "4     619             786198.0      8002055  Bílvirkinn bifreiðaverkstæði   \n",
       "\n",
       "   DaysSinceLastSettlement  CompanySSN  Transactions  avgTransactionsPerDay  \\\n",
       "0                      0.0  6005161320            44               0.186047   \n",
       "1                      0.0  5011032090           700               0.011445   \n",
       "2                     23.0  6503992859             2              11.000000   \n",
       "3                      0.0  4803190950             2               3.000000   \n",
       "4                      0.0  5404201300            14               0.615385   \n",
       "\n",
       "         Fees  FeeRatio  TransactionsLastTwoMonths  \\\n",
       "0  -2490.9604 -0.006141                       12.0   \n",
       "1 -29101.9137 -0.012649                     1094.0   \n",
       "2   -733.6965 -0.011002                        1.0   \n",
       "3   -177.2200 -0.009846                       13.0   \n",
       "4  -6926.5878 -0.008810                       21.0   \n",
       "\n",
       "   avgTransactionsPerDayLastTwoMonths  SettlementsLastTwoMonths  \\\n",
       "0                            0.825000                  331161.5   \n",
       "1                            0.011299                 3608151.5   \n",
       "2                            0.000000                   51956.0   \n",
       "3                            0.500000                   92200.0   \n",
       "4                            0.361111                 1024643.0   \n",
       "\n",
       "   FeeRatioLastTwoMonths  MerchantBalance  MerchantActive  churn_proba  \n",
       "0              -0.063492              0.0               1     0.080103  \n",
       "1              -0.023730              0.0               1     0.090856  \n",
       "2              -0.016284          35685.0               1     0.897919  \n",
       "3              -0.021834         145960.0               1     0.145034  \n",
       "4              -0.012945         -84345.0               1     0.154787  "
      ]
     },
     "execution_count": 3,
     "metadata": {},
     "output_type": "execute_result"
    }
   ],
   "source": [
    "import pickle\n",
    "\n",
    "with open('boosted-random-forest-17-11-2020.pkl', 'rb') as f:\n",
    "    classification_dict = pickle.load(f)\n",
    "\n",
    "pred = df.drop(columns=['period', 'MerchantName', 'CompanySSN', 'NMerchantID', 'DaysSinceLastSettlement', 'MerchantActive'])\n",
    "y_pred = [y_item[0] for y_item in classification_dict.predict_proba(pred)]\n",
    "df['churn_proba']=y_pred\n",
    "df.head()"
   ]
  },
  {
   "cell_type": "code",
   "execution_count": 4,
   "metadata": {},
   "outputs": [],
   "source": [
    "from datetime import datetime\n",
    "\n",
    "seasonalities = pd.read_csv(\"../Data/seasonalities.csv\")\n",
    "seasons = []\n",
    "\n",
    "for mid in df.NMerchantID:\n",
    "    s = seasonalities[seasonalities['MID'] == mid]\n",
    "    \n",
    "    if len(s) == 0:\n",
    "        seasons.append(1)\n",
    "    else:\n",
    "        start = s['Start'].values[0]\n",
    "        end = s['End'].values[0]\n",
    "        month = datetime.today().month\n",
    "        \n",
    "        if start <= month <= end:\n",
    "            seasons.append(1)\n",
    "        else:\n",
    "            seasons.append(0)\n",
    "df['inseason'] = seasons"
   ]
  },
  {
   "cell_type": "code",
   "execution_count": 5,
   "metadata": {},
   "outputs": [
    {
     "data": {
      "text/html": [
       "<div>\n",
       "<style scoped>\n",
       "    .dataframe tbody tr th:only-of-type {\n",
       "        vertical-align: middle;\n",
       "    }\n",
       "\n",
       "    .dataframe tbody tr th {\n",
       "        vertical-align: top;\n",
       "    }\n",
       "\n",
       "    .dataframe thead th {\n",
       "        text-align: right;\n",
       "    }\n",
       "</style>\n",
       "<table border=\"1\" class=\"dataframe\">\n",
       "  <thead>\n",
       "    <tr style=\"text-align: right;\">\n",
       "      <th></th>\n",
       "      <th>SettlementAmountISK</th>\n",
       "      <th>Transactions</th>\n",
       "      <th>avgTransactionsPerDay</th>\n",
       "      <th>Fees</th>\n",
       "      <th>FeeRatio</th>\n",
       "      <th>TransactionsLastTwoMonths</th>\n",
       "      <th>avgTransactionsPerDayLastTwoMonths</th>\n",
       "      <th>SettlementsLastTwoMonths</th>\n",
       "      <th>FeeRatioLastTwoMonths</th>\n",
       "      <th>MerchantBalance</th>\n",
       "      <th>MerchantActive</th>\n",
       "      <th>churn_proba</th>\n",
       "      <th>inseason</th>\n",
       "    </tr>\n",
       "  </thead>\n",
       "  <tbody>\n",
       "    <tr>\n",
       "      <th>0</th>\n",
       "      <td>405606.0</td>\n",
       "      <td>44</td>\n",
       "      <td>0.186047</td>\n",
       "      <td>-2490.9604</td>\n",
       "      <td>-0.006141</td>\n",
       "      <td>12.0</td>\n",
       "      <td>0.825000</td>\n",
       "      <td>331161.5</td>\n",
       "      <td>-0.063492</td>\n",
       "      <td>0.0</td>\n",
       "      <td>1</td>\n",
       "      <td>0.080103</td>\n",
       "      <td>1</td>\n",
       "    </tr>\n",
       "    <tr>\n",
       "      <th>1</th>\n",
       "      <td>2300708.0</td>\n",
       "      <td>700</td>\n",
       "      <td>0.011445</td>\n",
       "      <td>-29101.9137</td>\n",
       "      <td>-0.012649</td>\n",
       "      <td>1094.0</td>\n",
       "      <td>0.011299</td>\n",
       "      <td>3608151.5</td>\n",
       "      <td>-0.023730</td>\n",
       "      <td>0.0</td>\n",
       "      <td>1</td>\n",
       "      <td>0.090856</td>\n",
       "      <td>1</td>\n",
       "    </tr>\n",
       "    <tr>\n",
       "      <th>2</th>\n",
       "      <td>66685.0</td>\n",
       "      <td>2</td>\n",
       "      <td>11.000000</td>\n",
       "      <td>-733.6965</td>\n",
       "      <td>-0.011002</td>\n",
       "      <td>1.0</td>\n",
       "      <td>0.000000</td>\n",
       "      <td>51956.0</td>\n",
       "      <td>-0.016284</td>\n",
       "      <td>35685.0</td>\n",
       "      <td>1</td>\n",
       "      <td>0.897919</td>\n",
       "      <td>1</td>\n",
       "    </tr>\n",
       "    <tr>\n",
       "      <th>3</th>\n",
       "      <td>18000.0</td>\n",
       "      <td>2</td>\n",
       "      <td>3.000000</td>\n",
       "      <td>-177.2200</td>\n",
       "      <td>-0.009846</td>\n",
       "      <td>13.0</td>\n",
       "      <td>0.500000</td>\n",
       "      <td>92200.0</td>\n",
       "      <td>-0.021834</td>\n",
       "      <td>145960.0</td>\n",
       "      <td>1</td>\n",
       "      <td>0.145034</td>\n",
       "      <td>1</td>\n",
       "    </tr>\n",
       "    <tr>\n",
       "      <th>4</th>\n",
       "      <td>786198.0</td>\n",
       "      <td>14</td>\n",
       "      <td>0.615385</td>\n",
       "      <td>-6926.5878</td>\n",
       "      <td>-0.008810</td>\n",
       "      <td>21.0</td>\n",
       "      <td>0.361111</td>\n",
       "      <td>1024643.0</td>\n",
       "      <td>-0.012945</td>\n",
       "      <td>-84345.0</td>\n",
       "      <td>1</td>\n",
       "      <td>0.154787</td>\n",
       "      <td>1</td>\n",
       "    </tr>\n",
       "  </tbody>\n",
       "</table>\n",
       "</div>"
      ],
      "text/plain": [
       "   SettlementAmountISK  Transactions  avgTransactionsPerDay        Fees  \\\n",
       "0             405606.0            44               0.186047  -2490.9604   \n",
       "1            2300708.0           700               0.011445 -29101.9137   \n",
       "2              66685.0             2              11.000000   -733.6965   \n",
       "3              18000.0             2               3.000000   -177.2200   \n",
       "4             786198.0            14               0.615385  -6926.5878   \n",
       "\n",
       "   FeeRatio  TransactionsLastTwoMonths  avgTransactionsPerDayLastTwoMonths  \\\n",
       "0 -0.006141                       12.0                            0.825000   \n",
       "1 -0.012649                     1094.0                            0.011299   \n",
       "2 -0.011002                        1.0                            0.000000   \n",
       "3 -0.009846                       13.0                            0.500000   \n",
       "4 -0.008810                       21.0                            0.361111   \n",
       "\n",
       "   SettlementsLastTwoMonths  FeeRatioLastTwoMonths  MerchantBalance  \\\n",
       "0                  331161.5              -0.063492              0.0   \n",
       "1                 3608151.5              -0.023730              0.0   \n",
       "2                   51956.0              -0.016284          35685.0   \n",
       "3                   92200.0              -0.021834         145960.0   \n",
       "4                 1024643.0              -0.012945         -84345.0   \n",
       "\n",
       "   MerchantActive  churn_proba  inseason  \n",
       "0               1     0.080103         1  \n",
       "1               1     0.090856         1  \n",
       "2               1     0.897919         1  \n",
       "3               1     0.145034         1  \n",
       "4               1     0.154787         1  "
      ]
     },
     "execution_count": 5,
     "metadata": {},
     "output_type": "execute_result"
    }
   ],
   "source": [
    "a = df[((df['MerchantActive'] == 1) & (df['churn_proba'] < 0.3)) | (df['MerchantActive'] == 0)]\n",
    "df = df.drop(columns=['period', 'MerchantName', 'CompanySSN', 'NMerchantID', 'DaysSinceLastSettlement'])\n",
    "df.head()"
   ]
  },
  {
   "cell_type": "code",
   "execution_count": 6,
   "metadata": {},
   "outputs": [
    {
     "name": "stdout",
     "output_type": "stream",
     "text": [
      "Percantage of (1) data present: 88.59747023809523%\n",
      "Percantage of (0) data present: 11.402529761904761%\n",
      "Total number of rows in data:  10752\n"
     ]
    },
    {
     "data": {
      "image/png": "[encoded data removed]",
      "text/plain": [
       "<Figure size 432x288 with 1 Axes>"
      ]
     },
     "metadata": {},
     "output_type": "display_data"
    }
   ],
   "source": [
    "print(\"Percantage of (1) data present: {}%\".format(len(df[df['MerchantActive'] == 1])/len(df['MerchantActive']) * 100))\n",
    "print(\"Percantage of (0) data present: {}%\".format(len(df[df['MerchantActive'] == 0])/len(df['MerchantActive']) * 100))\n",
    "print(\"Total number of rows in data: \", len(df))\n",
    "ax = sb.countplot(x='MerchantActive', data=df)"
   ]
  },
  {
   "cell_type": "code",
   "execution_count": 7,
   "metadata": {},
   "outputs": [],
   "source": [
    "from sklearn.pipeline import Pipeline\n",
    "from sklearn.model_selection import GridSearchCV\n",
    "from sklearn.tree import DecisionTreeClassifier # might test with decision trees and such later\n",
    "from sklearn.ensemble import RandomForestClassifier, AdaBoostClassifier"
   ]
  },
  {
   "cell_type": "code",
   "execution_count": 8,
   "metadata": {},
   "outputs": [],
   "source": [
    "df = df.drop(columns=['churn_proba'])\n",
    "\n",
    "X = df.drop(['MerchantActive'], axis=1)\n",
    "y = df['MerchantActive']\n",
    "\n",
    "X_train, X_test, y_train, y_test = train_test_split(X, y, test_size=0.2, random_state=42)"
   ]
  },
  {
   "cell_type": "markdown",
   "metadata": {},
   "source": [
    "### Random Forest"
   ]
  },
  {
   "cell_type": "code",
   "execution_count": 9,
   "metadata": {},
   "outputs": [
    {
     "name": "stdout",
     "output_type": "stream",
     "text": [
      "Fitting 3 folds for each of 2160 candidates, totalling 6480 fits\n"
     ]
    },
    {
     "name": "stderr",
     "output_type": "stream",
     "text": [
      "[Parallel(n_jobs=-1)]: Using backend LokyBackend with 4 concurrent workers.\n",
      "[Parallel(n_jobs=-1)]: Done  33 tasks      | elapsed:   17.4s\n",
      "[Parallel(n_jobs=-1)]: Done 154 tasks      | elapsed:   41.7s\n",
      "[Parallel(n_jobs=-1)]: Done 357 tasks      | elapsed:  1.4min\n",
      "[Parallel(n_jobs=-1)]: Done 640 tasks      | elapsed:  2.5min\n",
      "[Parallel(n_jobs=-1)]: Done 1005 tasks      | elapsed:  3.9min\n",
      "[Parallel(n_jobs=-1)]: Done 1450 tasks      | elapsed:  5.4min\n",
      "[Parallel(n_jobs=-1)]: Done 1977 tasks      | elapsed:  7.5min\n",
      "[Parallel(n_jobs=-1)]: Done 2584 tasks      | elapsed:  9.7min\n",
      "[Parallel(n_jobs=-1)]: Done 3273 tasks      | elapsed: 12.2min\n",
      "[Parallel(n_jobs=-1)]: Done 4042 tasks      | elapsed: 16.2min\n",
      "[Parallel(n_jobs=-1)]: Done 4893 tasks      | elapsed: 20.3min\n",
      "[Parallel(n_jobs=-1)]: Done 5824 tasks      | elapsed: 24.4min\n",
      "[Parallel(n_jobs=-1)]: Done 6480 out of 6480 | elapsed: 27.4min finished\n"
     ]
    },
    {
     "data": {
      "text/plain": [
       "GridSearchCV(cv=3, estimator=RandomForestClassifier(), n_jobs=-1,\n",
       "             param_grid={'bootstrap': [True, False],\n",
       "                         'max_depth': [80, 90, 100, 110],\n",
       "                         'max_features': [2, 3], 'min_samples_leaf': [3, 4, 5],\n",
       "                         'min_samples_split': [8, 10, 12],\n",
       "                         'n_estimators': [0, 10, 20, 30, 40, 50, 60, 70, 80, 90,\n",
       "                                          100, 110, 120, 130, 140]},\n",
       "             verbose=2)"
      ]
     },
     "execution_count": 9,
     "metadata": {},
     "output_type": "execute_result"
    }
   ],
   "source": [
    "#random forest hyper parameter tuning\n",
    "param_grid = {\n",
    "    'bootstrap': [True,False],\n",
    "    'max_depth': [80, 90, 100, 110],\n",
    "    'max_features': [2, 3],\n",
    "    'min_samples_leaf': [3, 4, 5],\n",
    "    'min_samples_split': [8, 10, 12],\n",
    "    'n_estimators': [x*10 for x in range(15)]\n",
    "}\n",
    "\n",
    "clf = RandomForestClassifier()\n",
    "\n",
    "grid_search_rf = GridSearchCV(estimator = clf, param_grid = param_grid, cv = 3, n_jobs = -1, verbose = 2)\n",
    "\n",
    "grid_search_rf.fit(X_train, y_train)"
   ]
  },
  {
   "cell_type": "code",
   "execution_count": 10,
   "metadata": {},
   "outputs": [
    {
     "name": "stdout",
     "output_type": "stream",
     "text": [
      "Current best: 0.8888888888888888\n",
      "Current best: 0.8902835890283589\n",
      "Current best: 0.8907484890748489\n",
      "Current best: 0.891213389121339\n",
      "Current best: 0.8921431892143189\n",
      "Current best: 0.893072989307299\n",
      "Max: 0.893072989307299\n"
     ]
    }
   ],
   "source": [
    "clf_rf = None\n",
    "clf_rf_score = 0\n",
    "\n",
    "for i in range(100):\n",
    "    c = grid_search_rf.best_estimator_\n",
    "    c.fit(X_train, y_train)\n",
    "    score = c.score(X_test, y_test)\n",
    "\n",
    "    if score > clf_rf_score:\n",
    "        print(\"Current best: {}\".format(score))\n",
    "        clf_rf_score = score\n",
    "        clf_rf = c\n",
    "print(\"Max: {}\".format(clf_rf_score))"
   ]
  },
  {
   "cell_type": "markdown",
   "metadata": {},
   "source": [
    "### Adaboosted RF"
   ]
  },
  {
   "cell_type": "code",
   "execution_count": 11,
   "metadata": {},
   "outputs": [
    {
     "name": "stdout",
     "output_type": "stream",
     "text": [
      "Fitting 3 folds for each of 450 candidates, totalling 1350 fits\n"
     ]
    },
    {
     "name": "stderr",
     "output_type": "stream",
     "text": [
      "[Parallel(n_jobs=-1)]: Using backend LokyBackend with 4 concurrent workers.\n",
      "[Parallel(n_jobs=-1)]: Done  33 tasks      | elapsed:  6.6min\n",
      "[Parallel(n_jobs=-1)]: Done 154 tasks      | elapsed: 27.1min\n",
      "[Parallel(n_jobs=-1)]: Done 357 tasks      | elapsed: 91.3min\n",
      "[Parallel(n_jobs=-1)]: Done 640 tasks      | elapsed: 267.2min\n",
      "[Parallel(n_jobs=-1)]: Done 1005 tasks      | elapsed: 301.5min\n",
      "[Parallel(n_jobs=-1)]: Done 1350 out of 1350 | elapsed: 310.5min finished\n"
     ]
    },
    {
     "data": {
      "text/plain": [
       "GridSearchCV(cv=3,\n",
       "             estimator=AdaBoostClassifier(base_estimator=RandomForestClassifier(bootstrap=False,\n",
       "                                                                                max_depth=90,\n",
       "                                                                                max_features=3,\n",
       "                                                                                min_samples_leaf=3,\n",
       "                                                                                min_samples_split=12,\n",
       "                                                                                n_estimators=130)),\n",
       "             n_jobs=-1,\n",
       "             param_grid={'algorithm': ['SAMME', 'SAMME.R'],\n",
       "                         'learning_rate': [0.1, 0.2, 0.30000000000000004, 0.4,\n",
       "                                           0.5, 0.6, 0.7000000000000001, 0.8,\n",
       "                                           0.9, 1.0, 1.1, 1.2000000000000002,\n",
       "                                           1.3000000000000003,\n",
       "                                           1.4000000000000001,\n",
       "                                           1.5000000000000002],\n",
       "                         'n_estimators': [0, 10, 20, 30, 40, 50, 60, 70, 80, 90,\n",
       "                                          100, 110, 120, 130, 140]},\n",
       "             verbose=2)"
      ]
     },
     "execution_count": 11,
     "metadata": {},
     "output_type": "execute_result"
    }
   ],
   "source": [
    "param_grid = {\n",
    "    'n_estimators': [x*10 for x in range(15)],\n",
    "    'learning_rate': [0.1+(x*0.1) for x in range(15)],\n",
    "    'algorithm': ['SAMME', 'SAMME.R']\n",
    "}\n",
    "\n",
    "clf = AdaBoostClassifier(base_estimator=grid_search_rf.best_estimator_)\n",
    "\n",
    "grid_search = GridSearchCV(estimator = clf, param_grid = param_grid, cv = 3, n_jobs = -1, verbose = 2)\n",
    "\n",
    "grid_search.fit(X_train, y_train)"
   ]
  },
  {
   "cell_type": "code",
   "execution_count": 12,
   "metadata": {},
   "outputs": [
    {
     "name": "stdout",
     "output_type": "stream",
     "text": [
      "Current best: 0.891213389121339\n",
      "Current best: 0.8921431892143189\n",
      "Current best: 0.893072989307299\n",
      "Max: 0.893072989307299\n"
     ]
    }
   ],
   "source": [
    "from sklearn.ensemble import AdaBoostClassifier\n",
    "\n",
    "clf_ada = None\n",
    "clf_ada_score = 0\n",
    "\n",
    "for i in range(100):\n",
    "    c = grid_search.best_estimator_\n",
    "    c.fit(X_train, y_train)\n",
    "    score = c.score(X_test, y_test)\n",
    "\n",
    "    if score > clf_ada_score:\n",
    "        print(\"Current best: {}\".format(score))\n",
    "        clf_ada_score = score\n",
    "        clf_ada = c\n",
    "print(\"Max: {}\".format(clf_ada_score))"
   ]
  },
  {
   "cell_type": "markdown",
   "metadata": {},
   "source": [
    "### Gradient Boosting"
   ]
  },
  {
   "cell_type": "code",
   "execution_count": 13,
   "metadata": {},
   "outputs": [
    {
     "name": "stdout",
     "output_type": "stream",
     "text": [
      "Fitting 3 folds for each of 4500 candidates, totalling 13500 fits\n"
     ]
    },
    {
     "name": "stderr",
     "output_type": "stream",
     "text": [
      "[Parallel(n_jobs=-1)]: Using backend LokyBackend with 4 concurrent workers.\n",
      "[Parallel(n_jobs=-1)]: Done  33 tasks      | elapsed:   15.5s\n",
      "[Parallel(n_jobs=-1)]: Done 234 tasks      | elapsed:   33.5s\n",
      "[Parallel(n_jobs=-1)]: Done 437 tasks      | elapsed:  1.3min\n",
      "[Parallel(n_jobs=-1)]: Done 824 tasks      | elapsed:  2.2min\n",
      "[Parallel(n_jobs=-1)]: Done 1293 tasks      | elapsed:  3.5min\n",
      "[Parallel(n_jobs=-1)]: Done 1838 tasks      | elapsed:  4.9min\n",
      "[Parallel(n_jobs=-1)]: Done 2565 tasks      | elapsed:  6.6min\n",
      "[Parallel(n_jobs=-1)]: Done 3368 tasks      | elapsed:  8.7min\n",
      "[Parallel(n_jobs=-1)]: Done 4265 tasks      | elapsed: 11.1min\n",
      "[Parallel(n_jobs=-1)]: Done 5242 tasks      | elapsed: 13.7min\n",
      "[Parallel(n_jobs=-1)]: Done 6301 tasks      | elapsed: 16.7min\n",
      "[Parallel(n_jobs=-1)]: Done 7544 tasks      | elapsed: 19.7min\n",
      "[Parallel(n_jobs=-1)]: Done 8845 tasks      | elapsed: 23.1min\n",
      "[Parallel(n_jobs=-1)]: Done 10250 tasks      | elapsed: 26.8min\n",
      "[Parallel(n_jobs=-1)]: Done 11760 tasks      | elapsed: 30.8min\n",
      "[Parallel(n_jobs=-1)]: Done 13408 tasks      | elapsed: 35.1min\n",
      "[Parallel(n_jobs=-1)]: Done 13500 out of 13500 | elapsed: 35.6min finished\n"
     ]
    },
    {
     "data": {
      "text/plain": [
       "GridSearchCV(cv=3, estimator=GradientBoostingClassifier(), n_jobs=-1,\n",
       "             param_grid={'learning_rate': [0.1, 0.2, 0.30000000000000004, 0.4,\n",
       "                                           0.5, 0.6, 0.7000000000000001, 0.8,\n",
       "                                           0.9, 1.0, 1.1, 1.2000000000000002,\n",
       "                                           1.3000000000000003,\n",
       "                                           1.4000000000000001,\n",
       "                                           1.5000000000000002],\n",
       "                         'loss': ['deviance', 'exponential'],\n",
       "                         'n_estimators': [0, 10, 20, 30, 40, 50, 60, 70, 80, 90,\n",
       "                                          100, 110, 120, 130, 140],\n",
       "                         'subsample': [0.1, 0.2, 0.30000000000000004, 0.4, 0.5,\n",
       "                                       0.6000000000000001, 0.7000000000000001,\n",
       "                                       0.8, 0.9, 1.0]},\n",
       "             verbose=2)"
      ]
     },
     "execution_count": 13,
     "metadata": {},
     "output_type": "execute_result"
    }
   ],
   "source": [
    "from sklearn.ensemble import GradientBoostingClassifier\n",
    "\n",
    "param_grid = {\n",
    "    'n_estimators': [x*10 for x in range(15)],\n",
    "    'learning_rate': [0.1+(x*0.1) for x in range(15)],\n",
    "    'subsample':[0.1*(x+1) for x in range(10)],\n",
    "    'loss': ['deviance', 'exponential']\n",
    "}\n",
    "\n",
    "clf = GradientBoostingClassifier()\n",
    "\n",
    "grid_search = GridSearchCV(estimator = clf, param_grid = param_grid, cv = 3, n_jobs = -1, verbose = 2)\n",
    "\n",
    "grid_search.fit(X_train, y_train)"
   ]
  },
  {
   "cell_type": "code",
   "execution_count": 14,
   "metadata": {},
   "outputs": [
    {
     "name": "stdout",
     "output_type": "stream",
     "text": [
      "Current best: 0.8823802882380288\n",
      "Current best: 0.8833100883310089\n",
      "Current best: 0.8856345885634589\n",
      "Current best: 0.8860994886099489\n",
      "Current best: 0.8870292887029289\n",
      "Max: 0.8870292887029289\n"
     ]
    }
   ],
   "source": [
    "from sklearn.ensemble import GradientBoostingClassifier\n",
    "\n",
    "clf_gb = None\n",
    "clf_gb_score = 0\n",
    "\n",
    "for i in range(100):\n",
    "    c = grid_search.best_estimator_\n",
    "    c.fit(X_train, y_train)\n",
    "    score = c.score(X_test, y_test)\n",
    "\n",
    "    if score > clf_gb_score:\n",
    "        print(\"Current best: {}\".format(score))\n",
    "        clf_gb_score = score\n",
    "        clf_gb = c\n",
    "print(\"Max: {}\".format(clf_gb_score))"
   ]
  },
  {
   "cell_type": "markdown",
   "metadata": {},
   "source": [
    "### Results"
   ]
  },
  {
   "cell_type": "code",
   "execution_count": 16,
   "metadata": {},
   "outputs": [
    {
     "name": "stdout",
     "output_type": "stream",
     "text": [
      "Name                          Accuracy  Precision Recall    F1        \n",
      "AdaBoostClassifier            89.0      99.1      89.6      94.1      \n",
      "RandomForestClassifier        88.9      99.1      89.5      94.0      \n",
      "GradientBoostingClassifier    88.3      99.1      89.0      93.7      \n",
      "AdaBoostClassifier\n"
     ]
    },
    {
     "data": {
      "image/png": "[encoded data removed]",
      "text/plain": [
       "<Figure size 432x288 with 1 Axes>"
      ]
     },
     "metadata": {},
     "output_type": "display_data"
    },
    {
     "name": "stdout",
     "output_type": "stream",
     "text": [
      "RandomForestClassifier\n"
     ]
    },
    {
     "data": {
      "image/png": "[encoded data removed]",
      "text/plain": [
       "<Figure size 432x288 with 1 Axes>"
      ]
     },
     "metadata": {},
     "output_type": "display_data"
    },
    {
     "name": "stdout",
     "output_type": "stream",
     "text": [
      "GradientBoostingClassifier\n"
     ]
    },
    {
     "data": {
      "image/png": "[encoded data removed]",
      "text/plain": [
       "<Figure size 432x288 with 1 Axes>"
      ]
     },
     "metadata": {},
     "output_type": "display_data"
    }
   ],
   "source": [
    "from sklearn.metrics import average_precision_score\n",
    "from sklearn.metrics import plot_precision_recall_curve\n",
    "from sklearn.metrics import roc_curve\n",
    "from sklearn.metrics import roc_auc_score\n",
    "\n",
    "def plot_roc_curve(fpr, tpr):\n",
    "    plt.plot(fpr, tpr, color='orange', label='ROC')\n",
    "    plt.plot([0, 1], [0, 1], color='darkblue', linestyle='--')\n",
    "    plt.xlabel('False Positive Rate')\n",
    "    plt.ylabel('True Positive Rate')\n",
    "    plt.title('Receiver Operating Characteristic (ROC) Curve')\n",
    "    plt.legend()\n",
    "    plt.show()\n",
    "\n",
    "clfs = [clf_ada, clf_rf, clf_gb]\n",
    "\n",
    "print(\"{:<30}{:<10}{:<10}{:<10}{:<10}\".format(\"Name\", \"Accuracy\", \"Precision\", \"Recall\", \"F1\"))\n",
    "\n",
    "for c in clfs:\n",
    "    y_pred = c.predict(X_test)\n",
    "    accuracy = accuracy_score(y_pred,y_test)\n",
    "    f1 = f1_score(y_pred, y_test)\n",
    "    recall = recall_score(y_pred, y_test)\n",
    "    precision = precision_score(y_pred, y_test)\n",
    "    \n",
    "    print(\"{:<30}{:<10.1f}{:<10.1f}{:<10.1f}{:<10.1f}\".format(c.__class__.__name__, accuracy*100, precision*100, recall*100, f1*100))\n",
    "\n",
    "for c in clfs:\n",
    "    print(c.__class__.__name__)\n",
    "    y_pred = c.predict(X_test)\n",
    "    disp = plot_precision_recall_curve(c, X_test, y_test)\n",
    "\n",
    "\n",
    "    average_precision = average_precision_score(y_test, y_pred)\n",
    "    disp.ax_.set_title('2-class Precision-Recall curve: '\n",
    "                       'AP={0:0.2f}'.format(average_precision))\n",
    "    \n",
    "    y_pred = c.predict_proba(X_test)[:, 1]\n",
    "    fpr, tpr, _ = roc_curve(y_test, y_pred)\n",
    "\n",
    "    plot_roc_curve(fpr, tpr)"
   ]
  }
 ],
 "metadata": {
  "kernelspec": {
   "display_name": "Python 3",
   "language": "python",
   "name": "python3"
  },
  "language_info": {
   "codemirror_mode": {
    "name": "ipython",
    "version": 3
   },
   "file_extension": ".py",
   "mimetype": "text/x-python",
   "name": "python",
   "nbconvert_exporter": "python",
   "pygments_lexer": "ipython3",
   "version": "3.8.6rc1"
  }
 },
 "nbformat": 4,
 "nbformat_minor": 4
}
